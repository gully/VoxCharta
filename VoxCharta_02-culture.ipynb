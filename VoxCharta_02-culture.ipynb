{
 "metadata": {
  "name": "",
  "signature": "sha256:de234829e0824e87c859edc1a566263994c5c5c5a514d128a0816118b4b2ad2b"
 },
 "nbformat": 3,
 "nbformat_minor": 0,
 "worksheets": [
  {
   "cells": [
    {
     "cell_type": "markdown",
     "metadata": {},
     "source": [
      "#VoxCharta Part II\n",
      "## Stats by institution\n",
      "### Michael Gully-Santiago\n",
      "####December 17, 2014\n",
      "\n",
      "This version is looking for institutional differences in VoxCharta use."
     ]
    },
    {
     "cell_type": "code",
     "collapsed": false,
     "input": [
      "%%html\n",
      "<script type=\"text/javascript\">\n",
      "     show=true;\n",
      "     function toggle(){\n",
      "         if (show){$('div.input').hide();}else{$('div.input').show();}\n",
      "            show = !show}\n",
      " </script>\n",
      " <h2><a href=\"javascript:toggle()\" target=\"_self\">Click to toggle code input</a></h2>"
     ],
     "language": "python",
     "metadata": {},
     "outputs": [
      {
       "html": [
        "<script type=\"text/javascript\">\n",
        "     show=true;\n",
        "     function toggle(){\n",
        "         if (show){$('div.input').hide();}else{$('div.input').show();}\n",
        "            show = !show}\n",
        " </script>\n",
        " <h2><a href=\"javascript:toggle()\" target=\"_self\">Click to toggle code input</a></h2>"
       ],
       "metadata": {},
       "output_type": "display_data",
       "text": [
        "<IPython.core.display.HTML at 0x103a3f690>"
       ]
      }
     ],
     "prompt_number": 2
    },
    {
     "cell_type": "code",
     "collapsed": false,
     "input": [
      "%pylab inline\n",
      "import numpy as np\n",
      "from numpy.random import randn\n",
      "import pandas as pd\n",
      "from scipy import stats\n",
      "import matplotlib as mpl\n",
      "import matplotlib.pyplot as plt\n",
      "import seaborn as sns\n",
      "from pandas import Series, DataFrame"
     ],
     "language": "python",
     "metadata": {},
     "outputs": [
      {
       "output_type": "stream",
       "stream": "stdout",
       "text": [
        "Populating the interactive namespace from numpy and matplotlib\n"
       ]
      }
     ],
     "prompt_number": 3
    },
    {
     "cell_type": "code",
     "collapsed": false,
     "input": [
      "institutes = pd.read_csv('data/institutes.csv', na_values='-', parse_dates=['DateStarted'])\n",
      "users = pd.read_csv('data/users.csv', parse_dates=['DateUser'], index_col='User')\n",
      "users.head()"
     ],
     "language": "python",
     "metadata": {},
     "outputs": [
      {
       "html": [
        "<div style=\"max-height:1000px;max-width:1500px;overflow:auto;\">\n",
        "<table border=\"1\" class=\"dataframe\">\n",
        "  <thead>\n",
        "    <tr style=\"text-align: right;\">\n",
        "      <th></th>\n",
        "      <th>Votes</th>\n",
        "      <th>Up</th>\n",
        "      <th>Down</th>\n",
        "      <th>Comments</th>\n",
        "      <th>Posts</th>\n",
        "      <th>DateUser</th>\n",
        "      <th>Affiliation</th>\n",
        "    </tr>\n",
        "    <tr>\n",
        "      <th>User</th>\n",
        "      <th></th>\n",
        "      <th></th>\n",
        "      <th></th>\n",
        "      <th></th>\n",
        "      <th></th>\n",
        "      <th></th>\n",
        "      <th></th>\n",
        "    </tr>\n",
        "  </thead>\n",
        "  <tbody>\n",
        "    <tr>\n",
        "      <th>tomo</th>\n",
        "      <td> 2348</td>\n",
        "      <td> 2348</td>\n",
        "      <td> 0</td>\n",
        "      <td>  0</td>\n",
        "      <td> 0</td>\n",
        "      <td>2012-07-05</td>\n",
        "      <td>                          NTHU</td>\n",
        "    </tr>\n",
        "    <tr>\n",
        "      <th>Reiko</th>\n",
        "      <td> 1902</td>\n",
        "      <td> 1902</td>\n",
        "      <td> 0</td>\n",
        "      <td> 21</td>\n",
        "      <td> 1</td>\n",
        "      <td>2011-11-13</td>\n",
        "      <td>                    AIfA-Cosmo</td>\n",
        "    </tr>\n",
        "    <tr>\n",
        "      <th>Franz Bauer</th>\n",
        "      <td> 1384</td>\n",
        "      <td> 1382</td>\n",
        "      <td> 2</td>\n",
        "      <td>  0</td>\n",
        "      <td> 0</td>\n",
        "      <td>2011-03-26</td>\n",
        "      <td> PUC-Institute of Astrophysics</td>\n",
        "    </tr>\n",
        "    <tr>\n",
        "      <th>Brian Siana</th>\n",
        "      <td> 1361</td>\n",
        "      <td> 1361</td>\n",
        "      <td> 0</td>\n",
        "      <td>  0</td>\n",
        "      <td> 0</td>\n",
        "      <td>2010-08-18</td>\n",
        "      <td>                           UCR</td>\n",
        "    </tr>\n",
        "    <tr>\n",
        "      <th>Andrew Zentner</th>\n",
        "      <td> 1214</td>\n",
        "      <td> 1212</td>\n",
        "      <td> 2</td>\n",
        "      <td>  0</td>\n",
        "      <td> 3</td>\n",
        "      <td>2011-02-15</td>\n",
        "      <td>                 U. Pittsburgh</td>\n",
        "    </tr>\n",
        "  </tbody>\n",
        "</table>\n",
        "</div>"
       ],
       "metadata": {},
       "output_type": "pyout",
       "prompt_number": 5,
       "text": [
        "                Votes    Up  Down  Comments  Posts   DateUser  \\\n",
        "User                                                            \n",
        "tomo             2348  2348     0         0      0 2012-07-05   \n",
        "Reiko            1902  1902     0        21      1 2011-11-13   \n",
        "Franz Bauer      1384  1382     2         0      0 2011-03-26   \n",
        "Brian Siana      1361  1361     0         0      0 2010-08-18   \n",
        "Andrew Zentner   1214  1212     2         0      3 2011-02-15   \n",
        "\n",
        "                                  Affiliation  \n",
        "User                                           \n",
        "tomo                                     NTHU  \n",
        "Reiko                              AIfA-Cosmo  \n",
        "Franz Bauer     PUC-Institute of Astrophysics  \n",
        "Brian Siana                               UCR  \n",
        "Andrew Zentner                  U. Pittsburgh  "
       ]
      }
     ],
     "prompt_number": 5
    },
    {
     "cell_type": "code",
     "collapsed": false,
     "input": [
      "users['Rank'] = users.Votes.rank(method='first', ascending=False)"
     ],
     "language": "python",
     "metadata": {},
     "outputs": [],
     "prompt_number": 6
    },
    {
     "cell_type": "code",
     "collapsed": false,
     "input": [
      "affiliations = users.groupby(by='Affiliation')"
     ],
     "language": "python",
     "metadata": {},
     "outputs": [],
     "prompt_number": 11
    },
    {
     "cell_type": "code",
     "collapsed": false,
     "input": [
      "institutes.set_index('Institute', inplace=True)"
     ],
     "language": "python",
     "metadata": {},
     "outputs": [],
     "prompt_number": 24
    },
    {
     "cell_type": "code",
     "collapsed": false,
     "input": [
      "institutes['membership'] = affiliations.size()"
     ],
     "language": "python",
     "metadata": {},
     "outputs": [],
     "prompt_number": 25
    },
    {
     "cell_type": "code",
     "collapsed": false,
     "input": [
      "sns.jointplot('Users', 'Votes', data=institutes, kind='scatter', xlim=[0,60], ylim=[0,2000])"
     ],
     "language": "python",
     "metadata": {},
     "outputs": [
      {
       "metadata": {},
       "output_type": "pyout",
       "prompt_number": 34,
       "text": [
        "<seaborn.axisgrid.JointGrid at 0x115c371d0>"
       ]
      },
      {
       "metadata": {},
       "output_type": "display_data",
       "png": "[encoded data removed]",
       "text": [
        "<matplotlib.figure.Figure at 0x116b38fd0>"
       ]
      }
     ],
     "prompt_number": 34
    },
    {
     "cell_type": "code",
     "collapsed": false,
     "input": [
      "institutes['meanness'] = institutes.Down.div(institutes.Votes)"
     ],
     "language": "python",
     "metadata": {},
     "outputs": [],
     "prompt_number": 35
    },
    {
     "cell_type": "code",
     "collapsed": false,
     "input": [
      "sns.jointplot('Votes', 'meanness', data=institutes, xlim=[100, 5000], ylim=[0, 0.2])\n",
      "mean_place = (institutes.Votes > 2000) & (institutes.meanness > 0.14)\n",
      "\n",
      "print institutes.index[mean_place].values[0]"
     ],
     "language": "python",
     "metadata": {},
     "outputs": [
      {
       "output_type": "stream",
       "stream": "stdout",
       "text": [
        "unaffiliated\n"
       ]
      },
      {
       "metadata": {},
       "output_type": "pyout",
       "prompt_number": 46,
       "text": [
        "'\\nplt.annotate(institutes.index[mean_place].values[0], \\n             xy=(institutes[\\'Votes\\'][mean_place], institutes[\\'meanness\\'][mean_place]), \\n             textcoords=\\'offset points\\',\\n             fontsize=16.0,\\n             arrowprops=dict(arrowstyle=\"fancy\", #linestyle=\"dashed\",\\n                color=\"0.5\",\\n                shrinkB=9,\\n                connectionstyle=\"arc3,rad=0.3\",\\n                ),\\n            )\\n'"
       ]
      },
      {
       "metadata": {},
       "output_type": "display_data",
       "png": "[encoded data removed]",
       "text": [
        "<matplotlib.figure.Figure at 0x1190295d0>"
       ]
      }
     ],
     "prompt_number": 46
    },
    {
     "cell_type": "code",
     "collapsed": false,
     "input": [
      "users['meanness'] = users.Down.div(users.Votes)\n",
      "users.head()"
     ],
     "language": "python",
     "metadata": {},
     "outputs": [
      {
       "html": [
        "<div style=\"max-height:1000px;max-width:1500px;overflow:auto;\">\n",
        "<table border=\"1\" class=\"dataframe\">\n",
        "  <thead>\n",
        "    <tr style=\"text-align: right;\">\n",
        "      <th></th>\n",
        "      <th>Votes</th>\n",
        "      <th>Up</th>\n",
        "      <th>Down</th>\n",
        "      <th>Comments</th>\n",
        "      <th>Posts</th>\n",
        "      <th>DateUser</th>\n",
        "      <th>Affiliation</th>\n",
        "      <th>Rank</th>\n",
        "      <th>meanness</th>\n",
        "    </tr>\n",
        "    <tr>\n",
        "      <th>User</th>\n",
        "      <th></th>\n",
        "      <th></th>\n",
        "      <th></th>\n",
        "      <th></th>\n",
        "      <th></th>\n",
        "      <th></th>\n",
        "      <th></th>\n",
        "      <th></th>\n",
        "      <th></th>\n",
        "    </tr>\n",
        "  </thead>\n",
        "  <tbody>\n",
        "    <tr>\n",
        "      <th>tomo</th>\n",
        "      <td> 2348</td>\n",
        "      <td> 2348</td>\n",
        "      <td> 0</td>\n",
        "      <td>  0</td>\n",
        "      <td> 0</td>\n",
        "      <td>2012-07-05</td>\n",
        "      <td>                          NTHU</td>\n",
        "      <td> 1</td>\n",
        "      <td> 0.000000</td>\n",
        "    </tr>\n",
        "    <tr>\n",
        "      <th>Reiko</th>\n",
        "      <td> 1902</td>\n",
        "      <td> 1902</td>\n",
        "      <td> 0</td>\n",
        "      <td> 21</td>\n",
        "      <td> 1</td>\n",
        "      <td>2011-11-13</td>\n",
        "      <td>                    AIfA-Cosmo</td>\n",
        "      <td> 2</td>\n",
        "      <td> 0.000000</td>\n",
        "    </tr>\n",
        "    <tr>\n",
        "      <th>Franz Bauer</th>\n",
        "      <td> 1384</td>\n",
        "      <td> 1382</td>\n",
        "      <td> 2</td>\n",
        "      <td>  0</td>\n",
        "      <td> 0</td>\n",
        "      <td>2011-03-26</td>\n",
        "      <td> PUC-Institute of Astrophysics</td>\n",
        "      <td> 3</td>\n",
        "      <td> 0.001445</td>\n",
        "    </tr>\n",
        "    <tr>\n",
        "      <th>Brian Siana</th>\n",
        "      <td> 1361</td>\n",
        "      <td> 1361</td>\n",
        "      <td> 0</td>\n",
        "      <td>  0</td>\n",
        "      <td> 0</td>\n",
        "      <td>2010-08-18</td>\n",
        "      <td>                           UCR</td>\n",
        "      <td> 4</td>\n",
        "      <td> 0.000000</td>\n",
        "    </tr>\n",
        "    <tr>\n",
        "      <th>Andrew Zentner</th>\n",
        "      <td> 1214</td>\n",
        "      <td> 1212</td>\n",
        "      <td> 2</td>\n",
        "      <td>  0</td>\n",
        "      <td> 3</td>\n",
        "      <td>2011-02-15</td>\n",
        "      <td>                 U. Pittsburgh</td>\n",
        "      <td> 5</td>\n",
        "      <td> 0.001647</td>\n",
        "    </tr>\n",
        "  </tbody>\n",
        "</table>\n",
        "</div>"
       ],
       "metadata": {},
       "output_type": "pyout",
       "prompt_number": 50,
       "text": [
        "                Votes    Up  Down  Comments  Posts   DateUser  \\\n",
        "User                                                            \n",
        "tomo             2348  2348     0         0      0 2012-07-05   \n",
        "Reiko            1902  1902     0        21      1 2011-11-13   \n",
        "Franz Bauer      1384  1382     2         0      0 2011-03-26   \n",
        "Brian Siana      1361  1361     0         0      0 2010-08-18   \n",
        "Andrew Zentner   1214  1212     2         0      3 2011-02-15   \n",
        "\n",
        "                                  Affiliation  Rank  meanness  \n",
        "User                                                           \n",
        "tomo                                     NTHU     1  0.000000  \n",
        "Reiko                              AIfA-Cosmo     2  0.000000  \n",
        "Franz Bauer     PUC-Institute of Astrophysics     3  0.001445  \n",
        "Brian Siana                               UCR     4  0.000000  \n",
        "Andrew Zentner                  U. Pittsburgh     5  0.001647  "
       ]
      }
     ],
     "prompt_number": 50
    },
    {
     "cell_type": "code",
     "collapsed": false,
     "input": [
      "from __future__ import division\n",
      "tot_peeps = users.Votes[users.Votes > 30].count()\n",
      "print tot_peeps\n",
      "neg_voters = (users.Down > 0) & (users.Votes > 30)\n",
      "mean_peeps = np.sum(neg_voters)\n",
      "print mean_peeps\n",
      "print mean_peeps/tot_peeps\n",
      "\n",
      "sns.jointplot('Votes', 'Down', data=users[neg_voters], xlim=[20, 1000], ylim=[0, 20])"
     ],
     "language": "python",
     "metadata": {},
     "outputs": [
      {
       "output_type": "stream",
       "stream": "stdout",
       "text": [
        "813\n",
        "94\n",
        "0.115621156212\n"
       ]
      },
      {
       "metadata": {},
       "output_type": "pyout",
       "prompt_number": 62,
       "text": [
        "<seaborn.axisgrid.JointGrid at 0x123073850>"
       ]
      },
      {
       "metadata": {},
       "output_type": "display_data",
       "png": "[encoded data removed]",
       "text": [
        "<matplotlib.figure.Figure at 0x1230731d0>"
       ]
      }
     ],
     "prompt_number": 62
    }
   ],
   "metadata": {}
  }
 ]
}