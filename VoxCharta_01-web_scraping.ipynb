{
 "metadata": {
  "name": "",
  "signature": "sha256:dd77e53dcbcf41c4aa2f820cdd0b9b941ddab6fa4573168872bc58e6b7cddef3"
 },
 "nbformat": 3,
 "nbformat_minor": 0,
 "worksheets": [
  {
   "cells": [
    {
     "cell_type": "markdown",
     "metadata": {},
     "source": [
      "#VoxCharta Part I\n",
      "## Webscraping VoxCharta.org\n",
      "### Michael Gully-Santiago\n",
      "####December 17, 2014\n",
      "\n",
      "My approach is to copy the data from the usage statistics."
     ]
    },
    {
     "cell_type": "code",
     "collapsed": false,
     "input": [
      "%%html\n",
      "<script type=\"text/javascript\">\n",
      "     show=true;\n",
      "     function toggle(){\n",
      "         if (show){$('div.input').hide();}else{$('div.input').show();}\n",
      "            show = !show}\n",
      " </script>\n",
      " <h2><a href=\"javascript:toggle()\" target=\"_self\">Click to toggle code input</a></h2>"
     ],
     "language": "python",
     "metadata": {},
     "outputs": [
      {
       "html": [
        "<script type=\"text/javascript\">\n",
        "     show=true;\n",
        "     function toggle(){\n",
        "         if (show){$('div.input').hide();}else{$('div.input').show();}\n",
        "            show = !show}\n",
        " </script>\n",
        " <h2><a href=\"javascript:toggle()\" target=\"_self\">Click to toggle code input</a></h2>"
       ],
       "metadata": {},
       "output_type": "display_data",
       "text": [
        "<IPython.core.display.HTML at 0x114ccbbd0>"
       ]
      }
     ],
     "prompt_number": 26
    },
    {
     "cell_type": "code",
     "collapsed": false,
     "input": [
      "%pylab inline\n",
      "import numpy as np\n",
      "from numpy.random import randn\n",
      "import pandas as pd\n",
      "from scipy import stats\n",
      "import matplotlib as mpl\n",
      "import matplotlib.pyplot as plt\n",
      "import seaborn as sns\n",
      "from pandas import Series, DataFrame"
     ],
     "language": "python",
     "metadata": {},
     "outputs": [
      {
       "output_type": "stream",
       "stream": "stdout",
       "text": [
        "Populating the interactive namespace from numpy and matplotlib\n"
       ]
      }
     ],
     "prompt_number": 1
    },
    {
     "cell_type": "markdown",
     "metadata": {},
     "source": [
      "### Rather than use `Beautiful Soup`, I simply copied the data to the clipboard.\n",
      "\n",
      "But for reproducibility purposes, I immediately saved the data to a .csv file with the code below.\n",
      "\n",
      "```python\n",
      "institutes = pd.read_clipboard(header=None, sep='\\s{2,}', index_col='Institute',\n",
      "                               names=['Institute', 'Users', 'Votes', 'Up', 'Down',\n",
      "                                        'Comments', 'Posts','DateStarted'])\n",
      "institutes.to_csv('data/institutes.csv')\n",
      "```"
     ]
    },
    {
     "cell_type": "code",
     "collapsed": false,
     "input": [
      "institutes = pd.read_csv('data/institutes.csv', na_values='-', parse_dates=['DateStarted'])\n",
      "institutes.tail()"
     ],
     "language": "python",
     "metadata": {},
     "outputs": [
      {
       "html": [
        "<div style=\"max-height:1000px;max-width:1500px;overflow:auto;\">\n",
        "<table border=\"1\" class=\"dataframe\">\n",
        "  <thead>\n",
        "    <tr style=\"text-align: right;\">\n",
        "      <th></th>\n",
        "      <th>Institute</th>\n",
        "      <th>Users</th>\n",
        "      <th>Votes</th>\n",
        "      <th>Up</th>\n",
        "      <th>Down</th>\n",
        "      <th>Comments</th>\n",
        "      <th>Posts</th>\n",
        "      <th>DateStarted</th>\n",
        "    </tr>\n",
        "  </thead>\n",
        "  <tbody>\n",
        "    <tr>\n",
        "      <th>222</th>\n",
        "      <td>        UCSC Outflows</td>\n",
        "      <td> 1</td>\n",
        "      <td> 2</td>\n",
        "      <td> 1</td>\n",
        "      <td> 1</td>\n",
        "      <td> 0</td>\n",
        "      <td> 0</td>\n",
        "      <td>       NaT</td>\n",
        "    </tr>\n",
        "    <tr>\n",
        "      <th>223</th>\n",
        "      <td> University of Surrey</td>\n",
        "      <td> 1</td>\n",
        "      <td> 2</td>\n",
        "      <td> 1</td>\n",
        "      <td> 1</td>\n",
        "      <td> 0</td>\n",
        "      <td> 0</td>\n",
        "      <td>       NaT</td>\n",
        "    </tr>\n",
        "    <tr>\n",
        "      <th>224</th>\n",
        "      <td>                 CWRU</td>\n",
        "      <td> 0</td>\n",
        "      <td> 0</td>\n",
        "      <td> 0</td>\n",
        "      <td> 0</td>\n",
        "      <td> 0</td>\n",
        "      <td> 0</td>\n",
        "      <td>       NaT</td>\n",
        "    </tr>\n",
        "    <tr>\n",
        "      <th>225</th>\n",
        "      <td>          CWRU-Theory</td>\n",
        "      <td> 0</td>\n",
        "      <td> 0</td>\n",
        "      <td> 0</td>\n",
        "      <td> 0</td>\n",
        "      <td> 0</td>\n",
        "      <td> 0</td>\n",
        "      <td>2011-11-21</td>\n",
        "    </tr>\n",
        "    <tr>\n",
        "      <th>226</th>\n",
        "      <td>        Yale-Clusters</td>\n",
        "      <td> 0</td>\n",
        "      <td> 0</td>\n",
        "      <td> 0</td>\n",
        "      <td> 0</td>\n",
        "      <td> 0</td>\n",
        "      <td> 0</td>\n",
        "      <td>       NaT</td>\n",
        "    </tr>\n",
        "  </tbody>\n",
        "</table>\n",
        "</div>"
       ],
       "metadata": {},
       "output_type": "pyout",
       "prompt_number": 3,
       "text": [
        "                Institute  Users  Votes  Up  Down  Comments  Posts DateStarted\n",
        "222         UCSC Outflows      1      2   1     1         0      0         NaT\n",
        "223  University of Surrey      1      2   1     1         0      0         NaT\n",
        "224                  CWRU      0      0   0     0         0      0         NaT\n",
        "225           CWRU-Theory      0      0   0     0         0      0  2011-11-21\n",
        "226         Yale-Clusters      0      0   0     0         0      0         NaT"
       ]
      }
     ],
     "prompt_number": 3
    },
    {
     "cell_type": "code",
     "collapsed": false,
     "input": [
      "#institutes['Votes'].cumsum().plot(title='Cumulative distribution')\n",
      "institutes['Rank'] = institutes.Votes.rank(method='first', ascending=False)"
     ],
     "language": "python",
     "metadata": {},
     "outputs": [],
     "prompt_number": 4
    },
    {
     "cell_type": "code",
     "collapsed": false,
     "input": [
      "cumsum_normalized = institutes.Votes.cumsum().div(institutes.Votes.cumsum().max())\n",
      "cumsum_normalized.plot(title='Cumulative distribution of VoxCharta votes')\n",
      "UT_id = institutes.Institute == 'UT Austin'\n",
      "plt.scatter(institutes['Rank'][UT_id], cumsum_normalized[UT_id], s=50, c='r', marker='o')\n",
      "plt.annotate('UTexas', \n",
      "             xy=(institutes['Rank'][UT_id], cumsum_normalized[UT_id]), \n",
      "             textcoords='offset points',\n",
      "             fontsize=16.0,\n",
      "             arrowprops=dict(arrowstyle=\"fancy\", #linestyle=\"dashed\",\n",
      "                color=\"0.5\",\n",
      "                shrinkB=9,\n",
      "                connectionstyle=\"arc3,rad=0.3\",\n",
      "                ),\n",
      "            )\n",
      "\n",
      "#plt.add_at(\"mutate\", loc=2)"
     ],
     "language": "python",
     "metadata": {},
     "outputs": [
      {
       "output_type": "stream",
       "stream": "stderr",
       "text": [
        "/Users/gully/anaconda/lib/python2.7/site-packages/matplotlib/text.py:1788: UserWarning: You have used the `textcoords` kwarg, but not the `xytext` kwarg.  This can lead to surprising results.\n",
        "  warnings.warn(\"You have used the `textcoords` kwarg, but not \"\n"
       ]
      },
      {
       "metadata": {},
       "output_type": "pyout",
       "prompt_number": 5,
       "text": [
        "<matplotlib.text.Annotation at 0x112db39d0>"
       ]
      },
      {
       "metadata": {},
       "output_type": "display_data",
       "png": "[encoded data removed]",
       "text": [
        "<matplotlib.figure.Figure at 0x112cd3dd0>"
       ]
      }
     ],
     "prompt_number": 5
    },
    {
     "cell_type": "code",
     "collapsed": false,
     "input": [
      "ids = (cumsum_normalized < 0.5)\n",
      "count = len(cumsum_normalized)\n",
      "statement = \"{0} institutions are responsible for half of all votes out of {1} institutions\"\n",
      "print statement.format(np.sum(ids), count)\n",
      "print \"They are: \"\n",
      "institutes.Institute[ids]"
     ],
     "language": "python",
     "metadata": {},
     "outputs": [
      {
       "output_type": "stream",
       "stream": "stdout",
       "text": [
        "25 institutions are responsible for half of all votes out of 227 institutions\n",
        "They are: \n"
       ]
      },
      {
       "metadata": {},
       "output_type": "pyout",
       "prompt_number": 6,
       "text": [
        "0                                                  DARK\n",
        "1                                                   UCR\n",
        "2                                             STScI/JHU\n",
        "3                                                  Yale\n",
        "4                         PUC-Institute of Astrophysics\n",
        "5                                                  NTHU\n",
        "6                                                  UCSC\n",
        "7                                         U. Pittsburgh\n",
        "8                                            AIfA-Cosmo\n",
        "9                                                   LAM\n",
        "10                                           CEA Saclay\n",
        "11                                         unaffiliated\n",
        "12                                          Harvard ITC\n",
        "13                               University of Maryland\n",
        "14                                             Columbia\n",
        "15                                                 AIfA\n",
        "16    Osservatorio Astrofisico di Arcetri - Extragal...\n",
        "17                                             RSAA-ANU\n",
        "18                                        UMass Amherst\n",
        "19                                                  UCB\n",
        "20                                                  UCI\n",
        "21                                    Durham University\n",
        "22                       U. of Sussex, Astronomy Centre\n",
        "23                                              Caltech\n",
        "24                                              Cornell\n",
        "Name: Institute, dtype: object"
       ]
      }
     ],
     "prompt_number": 6
    },
    {
     "cell_type": "markdown",
     "metadata": {},
     "source": [
      "### Once again, scrape the data manually, then immediately save to `.csv`\n",
      "\n",
      "```python\n",
      "users = pd.read_clipboard(header=None, sep='\\s{2,}', index_col='User',\n",
      "                               names=['User', 'Votes', 'Up', 'Down',\n",
      "                                        'Comments', 'Posts','DateUser', 'Affiliation'])\n",
      "users.to_csv('data/users.csv')\n",
      "```"
     ]
    },
    {
     "cell_type": "code",
     "collapsed": false,
     "input": [
      "users = pd.read_csv('data/users.csv', parse_dates=['DateUser'], index_col='User')\n",
      "users.tail()"
     ],
     "language": "python",
     "metadata": {},
     "outputs": [
      {
       "html": [
        "<div style=\"max-height:1000px;max-width:1500px;overflow:auto;\">\n",
        "<table border=\"1\" class=\"dataframe\">\n",
        "  <thead>\n",
        "    <tr style=\"text-align: right;\">\n",
        "      <th></th>\n",
        "      <th>Votes</th>\n",
        "      <th>Up</th>\n",
        "      <th>Down</th>\n",
        "      <th>Comments</th>\n",
        "      <th>Posts</th>\n",
        "      <th>DateUser</th>\n",
        "      <th>Affiliation</th>\n",
        "    </tr>\n",
        "    <tr>\n",
        "      <th>User</th>\n",
        "      <th></th>\n",
        "      <th></th>\n",
        "      <th></th>\n",
        "      <th></th>\n",
        "      <th></th>\n",
        "      <th></th>\n",
        "      <th></th>\n",
        "    </tr>\n",
        "  </thead>\n",
        "  <tbody>\n",
        "    <tr>\n",
        "      <th>HildaBramlett</th>\n",
        "      <td> 0</td>\n",
        "      <td> 0</td>\n",
        "      <td> 0</td>\n",
        "      <td> 0</td>\n",
        "      <td> 0</td>\n",
        "      <td>2014-12-13</td>\n",
        "      <td> Chicago-KICP</td>\n",
        "    </tr>\n",
        "    <tr>\n",
        "      <th>RoseannShea</th>\n",
        "      <td> 0</td>\n",
        "      <td> 0</td>\n",
        "      <td> 0</td>\n",
        "      <td> 0</td>\n",
        "      <td> 0</td>\n",
        "      <td>2014-12-13</td>\n",
        "      <td> Chicago-KICP</td>\n",
        "    </tr>\n",
        "    <tr>\n",
        "      <th>SabinaDolling</th>\n",
        "      <td> 0</td>\n",
        "      <td> 0</td>\n",
        "      <td> 0</td>\n",
        "      <td> 0</td>\n",
        "      <td> 0</td>\n",
        "      <td>2014-12-13</td>\n",
        "      <td> Chicago-KICP</td>\n",
        "    </tr>\n",
        "    <tr>\n",
        "      <th>AnneBrassell</th>\n",
        "      <td> 0</td>\n",
        "      <td> 0</td>\n",
        "      <td> 0</td>\n",
        "      <td> 0</td>\n",
        "      <td> 0</td>\n",
        "      <td>2014-12-13</td>\n",
        "      <td> Chicago-KICP</td>\n",
        "    </tr>\n",
        "    <tr>\n",
        "      <th>KarryRanclaud</th>\n",
        "      <td> 0</td>\n",
        "      <td> 0</td>\n",
        "      <td> 0</td>\n",
        "      <td> 0</td>\n",
        "      <td> 0</td>\n",
        "      <td>2014-12-13</td>\n",
        "      <td> Chicago-KICP</td>\n",
        "    </tr>\n",
        "  </tbody>\n",
        "</table>\n",
        "</div>"
       ],
       "metadata": {},
       "output_type": "pyout",
       "prompt_number": 7,
       "text": [
        "               Votes  Up  Down  Comments  Posts   DateUser   Affiliation\n",
        "User                                                                    \n",
        "HildaBramlett      0   0     0         0      0 2014-12-13  Chicago-KICP\n",
        "RoseannShea        0   0     0         0      0 2014-12-13  Chicago-KICP\n",
        "SabinaDolling      0   0     0         0      0 2014-12-13  Chicago-KICP\n",
        "AnneBrassell       0   0     0         0      0 2014-12-13  Chicago-KICP\n",
        "KarryRanclaud      0   0     0         0      0 2014-12-13  Chicago-KICP"
       ]
      }
     ],
     "prompt_number": 7
    },
    {
     "cell_type": "code",
     "collapsed": false,
     "input": [
      "users.count() #5169, that's a lot of users!"
     ],
     "language": "python",
     "metadata": {},
     "outputs": [
      {
       "metadata": {},
       "output_type": "pyout",
       "prompt_number": 28,
       "text": [
        "Votes          5169\n",
        "Up             5169\n",
        "Down           5169\n",
        "Comments       5169\n",
        "Posts          5169\n",
        "DateUser       5169\n",
        "Affiliation    5169\n",
        "Rank           5169\n",
        "dtype: int64"
       ]
      }
     ],
     "prompt_number": 28
    },
    {
     "cell_type": "code",
     "collapsed": false,
     "input": [
      "users['Rank'] = users.Votes.rank(method='first', ascending=False)"
     ],
     "language": "python",
     "metadata": {},
     "outputs": [],
     "prompt_number": 8
    },
    {
     "cell_type": "code",
     "collapsed": false,
     "input": [
      "cumsum_norm_users = users.Votes.cumsum().div(users.Votes.cumsum().max())\n",
      "cumsum_norm_users.plot(title='Cumulative distribution of VoxCharta votes by user')\n",
      "\n",
      "gully_id = (users.index == 'gully')\n",
      "\n",
      "plt.scatter(users['Rank'][gully_id], cumsum_norm_users[gully_id], s=50, c='r', marker='o')\n",
      "plt.annotate('gully', \n",
      "             xy=(users['Rank'][gully_id], cumsum_norm_users[gully_id]), \n",
      "             textcoords='offset points',\n",
      "             fontsize=16.0,\n",
      "             arrowprops=dict(arrowstyle=\"fancy\", #linestyle=\"dashed\",\n",
      "                color=\"0.5\",\n",
      "                shrinkB=9,\n",
      "                connectionstyle=\"arc3,rad=0.3\",\n",
      "                ))"
     ],
     "language": "python",
     "metadata": {},
     "outputs": [
      {
       "metadata": {},
       "output_type": "pyout",
       "prompt_number": 9,
       "text": [
        "<matplotlib.text.Annotation at 0x1132975d0>"
       ]
      },
      {
       "metadata": {},
       "output_type": "display_data",
       "png": "[encoded data removed]",
       "text": [
        "<matplotlib.figure.Figure at 0x112d0c890>"
       ]
      }
     ],
     "prompt_number": 9
    },
    {
     "cell_type": "markdown",
     "metadata": {},
     "source": [
      "I want to emphasize that it is not necessarily virtuous to have voted for a paper.  This analysis and the assignment of 'rank' has no implied significance to the user's scientific merits- it simply is a reflection of how many times he or she has voted for something on VoxCharta, that's it.  Indeed, it might be annoying for someone to vote all the time for no reason whatsoever, having never read the paper."
     ]
    },
    {
     "cell_type": "markdown",
     "metadata": {},
     "source": [
      "### Let's restrict the discussion to just UTexas at Austin (my current affiliation)."
     ]
    },
    {
     "cell_type": "code",
     "collapsed": false,
     "input": [
      "UTexas = (users.Affiliation == 'UT Austin')\n",
      "print \"There are {} users at UT Austin\".format(np.sum(UTexas))"
     ],
     "language": "python",
     "metadata": {},
     "outputs": [
      {
       "output_type": "stream",
       "stream": "stdout",
       "text": [
        "There are 79 users at UT Austin\n"
       ]
      }
     ],
     "prompt_number": 10
    },
    {
     "cell_type": "code",
     "collapsed": false,
     "input": [
      "UTexas_users = users[UTexas]\n",
      "UTexas_users.head()"
     ],
     "language": "python",
     "metadata": {},
     "outputs": [
      {
       "html": [
        "<div style=\"max-height:1000px;max-width:1500px;overflow:auto;\">\n",
        "<table border=\"1\" class=\"dataframe\">\n",
        "  <thead>\n",
        "    <tr style=\"text-align: right;\">\n",
        "      <th></th>\n",
        "      <th>Votes</th>\n",
        "      <th>Up</th>\n",
        "      <th>Down</th>\n",
        "      <th>Comments</th>\n",
        "      <th>Posts</th>\n",
        "      <th>DateUser</th>\n",
        "      <th>Affiliation</th>\n",
        "      <th>Rank</th>\n",
        "    </tr>\n",
        "    <tr>\n",
        "      <th>User</th>\n",
        "      <th></th>\n",
        "      <th></th>\n",
        "      <th></th>\n",
        "      <th></th>\n",
        "      <th></th>\n",
        "      <th></th>\n",
        "      <th></th>\n",
        "      <th></th>\n",
        "    </tr>\n",
        "  </thead>\n",
        "  <tbody>\n",
        "    <tr>\n",
        "      <th>gully</th>\n",
        "      <td> 178</td>\n",
        "      <td> 178</td>\n",
        "      <td> 0</td>\n",
        "      <td> 0</td>\n",
        "      <td> 1</td>\n",
        "      <td>2011-07-18</td>\n",
        "      <td> UT Austin</td>\n",
        "      <td> 144</td>\n",
        "    </tr>\n",
        "    <tr>\n",
        "      <th>Steve Finkelstein</th>\n",
        "      <td> 119</td>\n",
        "      <td> 119</td>\n",
        "      <td> 0</td>\n",
        "      <td> 0</td>\n",
        "      <td> 0</td>\n",
        "      <td>2011-08-23</td>\n",
        "      <td> UT Austin</td>\n",
        "      <td> 233</td>\n",
        "    </tr>\n",
        "    <tr>\n",
        "      <th>comerford</th>\n",
        "      <td>  85</td>\n",
        "      <td>  85</td>\n",
        "      <td> 0</td>\n",
        "      <td> 0</td>\n",
        "      <td> 2</td>\n",
        "      <td>2011-07-18</td>\n",
        "      <td> UT Austin</td>\n",
        "      <td> 329</td>\n",
        "    </tr>\n",
        "    <tr>\n",
        "      <th>H. Kim</th>\n",
        "      <td>  85</td>\n",
        "      <td>  85</td>\n",
        "      <td> 0</td>\n",
        "      <td> 1</td>\n",
        "      <td> 0</td>\n",
        "      <td>2011-08-11</td>\n",
        "      <td> UT Austin</td>\n",
        "      <td> 330</td>\n",
        "    </tr>\n",
        "    <tr>\n",
        "      <th>mjohnson</th>\n",
        "      <td>  55</td>\n",
        "      <td>  55</td>\n",
        "      <td> 0</td>\n",
        "      <td> 0</td>\n",
        "      <td> 0</td>\n",
        "      <td>2012-05-16</td>\n",
        "      <td> UT Austin</td>\n",
        "      <td> 488</td>\n",
        "    </tr>\n",
        "  </tbody>\n",
        "</table>\n",
        "</div>"
       ],
       "metadata": {},
       "output_type": "pyout",
       "prompt_number": 11,
       "text": [
        "                   Votes   Up  Down  Comments  Posts   DateUser Affiliation  \\\n",
        "User                                                                          \n",
        "gully                178  178     0         0      1 2011-07-18   UT Austin   \n",
        "Steve Finkelstein    119  119     0         0      0 2011-08-23   UT Austin   \n",
        "comerford             85   85     0         0      2 2011-07-18   UT Austin   \n",
        "H. Kim                85   85     0         1      0 2011-08-11   UT Austin   \n",
        "mjohnson              55   55     0         0      0 2012-05-16   UT Austin   \n",
        "\n",
        "                   Rank  \n",
        "User                     \n",
        "gully               144  \n",
        "Steve Finkelstein   233  \n",
        "comerford           329  \n",
        "H. Kim              330  \n",
        "mjohnson            488  "
       ]
      }
     ],
     "prompt_number": 11
    },
    {
     "cell_type": "code",
     "collapsed": false,
     "input": [
      "cumsum_norm_UT = UTexas_users.Votes.cumsum().div(UTexas_users.Votes.cumsum().max())\n",
      "cumsum_norm_UT.plot(title='Cumulative distribution of VoxCharta votes at UTexas')\n",
      "UTexas_users['Cumulative'] = cumsum_norm_UT"
     ],
     "language": "python",
     "metadata": {},
     "outputs": [
      {
       "output_type": "stream",
       "stream": "stderr",
       "text": [
        "-c:3: SettingWithCopyWarning: \n",
        "A value is trying to be set on a copy of a slice from a DataFrame.\n",
        "Try using .loc[row_indexer,col_indexer] = value instead\n",
        "\n",
        "See the the caveats in the documentation: http://pandas.pydata.org/pandas-docs/stable/indexing.html#indexing-view-versus-copy\n"
       ]
      },
      {
       "metadata": {},
       "output_type": "display_data",
       "png": "[encoded data removed]",
       "text": [
        "<matplotlib.figure.Figure at 0x112d36290>"
       ]
      }
     ],
     "prompt_number": 12
    },
    {
     "cell_type": "code",
     "collapsed": false,
     "input": [
      "never_voted = (UTexas_users.Votes == 0)\n",
      "print \"{} users out of {} at UT Austin have never voted\".format(np.sum(never_voted), np.sum(UTexas))"
     ],
     "language": "python",
     "metadata": {},
     "outputs": [
      {
       "output_type": "stream",
       "stream": "stdout",
       "text": [
        "23 users out of 79 at UT Austin have never voted\n"
       ]
      }
     ],
     "prompt_number": 13
    },
    {
     "cell_type": "markdown",
     "metadata": {},
     "source": [
      "I'm curious to see how the UTexas CDF compares to other institutions.  This is a bit hard to compare since there are different total numbers of users, so we might have to consider normalizing the number of voters (i.e. the $x-$axis) too.  What we might do instead is use a coarse estimator, like the number of votes of the highest-voting user of each institution.  Let's come back to that."
     ]
    },
    {
     "cell_type": "markdown",
     "metadata": {},
     "source": [
      "### Let's look at my personal voting record"
     ]
    },
    {
     "cell_type": "markdown",
     "metadata": {},
     "source": [
      "The usual clipboad gimick.\n",
      "\n",
      "```python\n",
      "mgs = pd.read_clipboard(header=None, sep='\\s{2,}', index_col='Date',\n",
      "                               names=['Date', 'Title'])\n",
      "mgs.to_csv('data/mgs.csv')\n",
      "```"
     ]
    },
    {
     "cell_type": "code",
     "collapsed": false,
     "input": [
      "mgs = pd.read_csv('data/mgs.csv', parse_dates=['Date'], index_col='Date')\n",
      "mgs['count'] = mgs.count(axis=1)\n",
      "mgs.head()"
     ],
     "language": "python",
     "metadata": {},
     "outputs": [
      {
       "html": [
        "<div style=\"max-height:1000px;max-width:1500px;overflow:auto;\">\n",
        "<table border=\"1\" class=\"dataframe\">\n",
        "  <thead>\n",
        "    <tr style=\"text-align: right;\">\n",
        "      <th></th>\n",
        "      <th>Title</th>\n",
        "      <th>count</th>\n",
        "    </tr>\n",
        "    <tr>\n",
        "      <th>Date</th>\n",
        "      <th></th>\n",
        "      <th></th>\n",
        "    </tr>\n",
        "  </thead>\n",
        "  <tbody>\n",
        "    <tr>\n",
        "      <th>2014-12-17</th>\n",
        "      <td> The velocity distribution in the solar neighbo...</td>\n",
        "      <td> 1</td>\n",
        "    </tr>\n",
        "    <tr>\n",
        "      <th>2014-12-17</th>\n",
        "      <td> High-contrast Imaging with Spitzer: Deep Obser...</td>\n",
        "      <td> 1</td>\n",
        "    </tr>\n",
        "    <tr>\n",
        "      <th>2014-12-16</th>\n",
        "      <td> A Measurement of the Cosmic Microwave Backgrou...</td>\n",
        "      <td> 1</td>\n",
        "    </tr>\n",
        "    <tr>\n",
        "      <th>2014-12-15</th>\n",
        "      <td> Photometric Calibration on Lunar-based Ultravi...</td>\n",
        "      <td> 1</td>\n",
        "    </tr>\n",
        "    <tr>\n",
        "      <th>2014-12-15</th>\n",
        "      <td> ALMA observations of alpha Centauri: First det...</td>\n",
        "      <td> 1</td>\n",
        "    </tr>\n",
        "  </tbody>\n",
        "</table>\n",
        "</div>"
       ],
       "metadata": {},
       "output_type": "pyout",
       "prompt_number": 20,
       "text": [
        "                                                        Title  count\n",
        "Date                                                                \n",
        "2014-12-17  The velocity distribution in the solar neighbo...      1\n",
        "2014-12-17  High-contrast Imaging with Spitzer: Deep Obser...      1\n",
        "2014-12-16  A Measurement of the Cosmic Microwave Backgrou...      1\n",
        "2014-12-15  Photometric Calibration on Lunar-based Ultravi...      1\n",
        "2014-12-15  ALMA observations of alpha Centauri: First det...      1"
       ]
      }
     ],
     "prompt_number": 20
    },
    {
     "cell_type": "code",
     "collapsed": false,
     "input": [
      "grouped = mgs.groupby(level=0)\n",
      "gsum = grouped.sum()"
     ],
     "language": "python",
     "metadata": {},
     "outputs": [],
     "prompt_number": 22
    },
    {
     "cell_type": "code",
     "collapsed": false,
     "input": [
      "mgs_byday = gsum.resample('D', how=sum)\n",
      "mgs_byday.fillna(0, inplace=True)\n",
      "mgs_bymonth = gsum.resample('M', how=sum)\n",
      "mgs_bymonth.fillna(0, inplace=True)"
     ],
     "language": "python",
     "metadata": {},
     "outputs": [],
     "prompt_number": 23
    },
    {
     "cell_type": "code",
     "collapsed": false,
     "input": [
      "mgs_bymonth.plot(title='MGS voting record by month')"
     ],
     "language": "python",
     "metadata": {},
     "outputs": [
      {
       "metadata": {},
       "output_type": "pyout",
       "prompt_number": 24,
       "text": [
        "<matplotlib.axes._subplots.AxesSubplot at 0x112d36690>"
       ]
      },
      {
       "metadata": {},
       "output_type": "display_data",
       "png": "[encoded data removed]",
       "text": [
        "<matplotlib.figure.Figure at 0x113e977d0>"
       ]
      }
     ],
     "prompt_number": 24
    },
    {
     "cell_type": "code",
     "collapsed": false,
     "input": [
      "mgs_byday.cumsum().plot(title='MGS cumulative votes as a function of time')"
     ],
     "language": "python",
     "metadata": {},
     "outputs": [
      {
       "metadata": {},
       "output_type": "pyout",
       "prompt_number": 25,
       "text": [
        "<matplotlib.axes._subplots.AxesSubplot at 0x113caf0d0>"
       ]
      },
      {
       "metadata": {},
       "output_type": "display_data",
       "png": "[encoded data removed]",
       "text": [
        "<matplotlib.figure.Figure at 0x113f34a50>"
       ]
      }
     ],
     "prompt_number": 25
    },
    {
     "cell_type": "markdown",
     "metadata": {},
     "source": [
      "Insights:\n",
      "My voting frequency is irregular.  Notably there were big patches of time when I did not vote.  Lately I have been voting a lot.  "
     ]
    },
    {
     "cell_type": "code",
     "collapsed": false,
     "input": [],
     "language": "python",
     "metadata": {},
     "outputs": []
    }
   ],
   "metadata": {}
  }
 ]
}